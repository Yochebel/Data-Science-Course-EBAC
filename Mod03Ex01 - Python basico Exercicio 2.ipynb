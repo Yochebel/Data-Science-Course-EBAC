{
 "cells": [
  {
   "cell_type": "markdown",
   "metadata": {},
   "source": [
    "### 01 - Teste de gravidez\n",
    "Escreva uma célula com controle de fluxos que tem como premissa a existência das seguintes variáveis:\n",
    "\n",
    "- ```sexo``` como ```str``` indicando os valores '**M**' para masculino e '**F**' para feminino  \n",
    "- ```beta_hcg``` que indica a quantidade do beta-HCG no sangue em mUI/mL.\n",
    "\n",
    "A sua tarefa é escrever um código que imprima como resultado \"indivíduo do sexo masculino\" quando sexo = 'M', caso sexo = 'F', se o valor de beta-HCG for maior que 5, retorne \"Positivo\" indicando que a paciente está grávida, e retorne \"Negativo\" caso contrário.\n",
    "\n",
    "Não mexa nos valores da variável ```sexo``` nem em ```beta_hcg```, e escreva um código que funcione para quaisquer valores possíveis de ambos: ```sexo``` = '**M**' ou '**F**' e ```beta_hcg``` assumindo valores inteiros positivos."
   ]
  },
  {
   "cell_type": "code",
   "execution_count": 90,
   "metadata": {},
   "outputs": [
    {
     "name": "stdout",
     "output_type": "stream",
     "text": [
      "Digite 1 para homem e 2 para mulher 1\n",
      "Resposta invalida!\n"
     ]
    }
   ],
   "source": [
    "sexo = 'M'\n",
    "beta_hcg = 0\n",
    "\n",
    "# seu código vem abaixo desta linha\n",
    "\n",
    "#Digite numero 1 para homem e 2 para mulher \n",
    "sexo = int(input('Digite 1 para homem e 2 para mulher '))\n",
    "\n",
    "# Verifica o sexo\n",
    "if sexo == 2:\n",
    "    print('Feminino')\n",
    "elif sexo == 1:\n",
    "    print('Resposta invalida!')\n",
    "else:\n",
    "    print('Sexo não reconhecido.')\n",
    "    \n",
    "if sexo == 2:\n",
    "    \n",
    "#Digite numero 2 a mulher esta gravida ou 0 a mulher não está grávida\n",
    "    beta_hcg = int(input('Digite o resultado do seu teste '))\n",
    "\n",
    "#Varifica Gravidez\n",
    "    if beta_hcg == 0: \n",
    "        print('Você não está grávida ou você é um homem!')\n",
    "    elif beta_hcg == 2:\n",
    "        print('Você está grávida!')\n",
    "    else:\n",
    "        print('Resultado do teste inválido.')"
   ]
  },
  {
   "cell_type": "markdown",
   "metadata": {},
   "source": [
    "### 02 - Renomeando variáveis\n",
    "\n",
    "Vamos ver adiante que uma forma de renomear variáveis de um conjunto de dados é através de dicionários - o dicionário deve conter como chave o nome original, associando a cada chave um único valor (tipo *str*) que contenha o nome novo.\n",
    "\n",
    "A sua tarefa é escrever um dicionário que possa ser utilizado para traduzir as variáveis ```name``` (nome), ```age``` (idade) e ```income``` (renda). Ou seja, esse dicionário deve relacionar as chaves *name, age* e *income* às suas respectivas traduções."
   ]
  },
  {
   "cell_type": "code",
   "execution_count": 36,
   "metadata": {},
   "outputs": [
    {
     "name": "stdout",
     "output_type": "stream",
     "text": [
      "nome\n"
     ]
    }
   ],
   "source": [
    "dic_renomeacao = {'name': 'nome', 'age': 'idade', 'income': 'renda'}\n",
    "dic_renomeacao\n",
    "\n",
    "print (dic_renomeacao['name'])"
   ]
  },
  {
   "cell_type": "markdown",
   "metadata": {},
   "source": [
    "### 03 - É divisível?\n",
    "A sua tarefa é escrever um código que indique se um número ```N``` é divisível por um número P. Escreva um programa que faça essa verificação para quaisquer combinações de ```N``` e ```M``` e devolva uma mensagem indicativa no output."
   ]
  },
  {
   "cell_type": "code",
   "execution_count": 80,
   "metadata": {},
   "outputs": [
    {
     "name": "stdout",
     "output_type": "stream",
     "text": [
      "42 é divisivel por 3 , já que o resultado 14.0, é um numero inteiro.\n",
      "7 não é divisivel por 3 , já que o resultado 14.0, é um numero decimal.\n"
     ]
    }
   ],
   "source": [
    "N = 42\n",
    "M = 7\n",
    "\n",
    "#Seu código\n",
    "\n",
    "P = 3\n",
    "\n",
    "Resultado_1 = (N / P)\n",
    "print (f'{N} é divisivel por {P} , já que o resultado {Resultado_1}, é um numero inteiro.')\n",
    "\n",
    "Resultado_2 = (M / P)\n",
    "print (f'{M} não é divisivel por {P} , já que o resultado {Resultado_1}, é um numero decimal.')\n",
    "\n",
    "\n",
    "\n",
    "# Aqui não entendi, se P é uma referencia a numero primo ou se poderá ser umas numero qualque"
   ]
  },
  {
   "cell_type": "markdown",
   "metadata": {},
   "source": [
    "### 04 - Números primos\n",
    "> Um número **N** é primo se e somente se é divisível por 1, -1, por **N** e por -**N**.  \n",
    "\n",
    "Escreva um script que verifica se ```N``` é um número primo, verificando se ```N``` é divisível por todos os números de ```1``` a ```N-1```. Você vai precisar usar alguma ferramenta de *loop* que você aprendeu para isto. No final, devolva uma mensagem no output indicando se o número é primo ou não."
   ]
  },
  {
   "cell_type": "code",
   "execution_count": 87,
   "metadata": {},
   "outputs": [
    {
     "name": "stdout",
     "output_type": "stream",
     "text": [
      "47 é um número primo.\n"
     ]
    }
   ],
   "source": [
    "N = 47\n",
    "\n",
    "# seu código abaixo\n",
    "\n",
    "primo = True\n",
    "\n",
    "if N <= 1:\n",
    "    primo = False\n",
    "else:\n",
    "    for contador in range(2, N):\n",
    "        if N % contador == 0:\n",
    "            primo = False\n",
    "            break\n",
    "\n",
    "if primo:\n",
    "    print(f\"{N} é um número primo.\")\n",
    "else:\n",
    "    print(f\"{N} não é um número primo.\")\n",
    "\n",
    "\n"
   ]
  },
  {
   "cell_type": "markdown",
   "metadata": {},
   "source": [
    "### 05 - Desafio\n",
    "O algorítmo do exercício anterior não é o mais eficiente. O que você pode fazer para deixá-lo mais eficiente? Ou seja, executar menos comparações, portanto consumir menos tempo.\n",
    "1. Será que precisamos correr o loop até o final sempre?\n",
    "2. Será que precisamos mesmo verificar **todos** os números?\n",
    "3. Será que precisamos ir até N-1?\n",
    "\n",
    "Essas perguntas levam ao tipo de pensamento voltado a deixar um algoritmo mais eficiente. Veja se você consegue melhorar o seu."
   ]
  },
  {
   "cell_type": "code",
   "execution_count": 91,
   "metadata": {},
   "outputs": [
    {
     "name": "stdout",
     "output_type": "stream",
     "text": [
      "98 não é um número primo.\n"
     ]
    }
   ],
   "source": [
    "N = 98\n",
    "\n",
    "# seu código aqui\n",
    "\n",
    "# importando biblioteca matemática\n",
    "import math\n",
    "\n",
    "# definindo variavel de verificação de numeros primos\n",
    "primo = True\n",
    "\n",
    "if N <= 1:\n",
    "    primo = False\n",
    "\n",
    "# diminuindo a quantidade de divisões através de raiz quadrada\n",
    "else:\n",
    "    for contador in range(2, int(math.sqrt(N)) + 1):\n",
    "        if N % contador == 0:\n",
    "            primo = False\n",
    "            break\n",
    "\n",
    "if primo:\n",
    "    print(f\"{N} é um número primo.\")\n",
    "else:\n",
    "    print(f\"{N} não é um número primo.\")\n"
   ]
  },
  {
   "cell_type": "markdown",
   "metadata": {},
   "source": [
    "### 06 - Peso ideal 1\n",
    "O IMC (índice de massa corpórea) é um indicador de saúde mais bem aceito que o peso. Ele é calculado como:\n",
    "\n",
    "$$ IMC = \\dfrac{peso}{altura^2}$$\n",
    "\n",
    "Segundo a OMS, valores *normais* são entre 18.5 e 24.9.\n",
    "\n",
    "Sua tarefa é encontrar o ponto médio dessa faixa."
   ]
  },
  {
   "cell_type": "code",
   "execution_count": 92,
   "metadata": {},
   "outputs": [
    {
     "name": "stdout",
     "output_type": "stream",
     "text": [
      "O IMC médio é 21.7.\n"
     ]
    }
   ],
   "source": [
    "# Definindo as variaveis do IMC\n",
    "imc_ideal_minimo = 18.5\n",
    "imc_ideal_maximo = 24.9\n",
    "\n",
    "# Calculando média aritimetica\n",
    "imc_medio = (imc_ideal_minimo+imc_ideal_maximo)/2\n",
    "\n",
    "print (f'O IMC médio é {imc_medio}.')"
   ]
  },
  {
   "cell_type": "markdown",
   "metadata": {},
   "source": [
    "### 07 - Peso ideal 2\n",
    "Recebendo um valor de altura, encontre o peso '*ideal*' dessa pessoa, que fornece o IMC encontrado acima"
   ]
  },
  {
   "cell_type": "code",
   "execution_count": 96,
   "metadata": {},
   "outputs": [
    {
     "name": "stdout",
     "output_type": "stream",
     "text": [
      " Seu peso ideal é, 62.712999999999994.\n"
     ]
    }
   ],
   "source": [
    "altura = 1.70\n",
    "\n",
    "# Seu código\n",
    "\n",
    "peso_ideal = imc_medio * (altura**2)\n",
    "print (f' Seu peso ideal é, {peso_ideal}.')"
   ]
  },
  {
   "cell_type": "markdown",
   "metadata": {},
   "source": [
    "### 08 - Peso ideal 3\n",
    "Dada uma lista contendo as alturas de pacientes, crie uma nova lista que contenha o peso '*ideal*' (que fornece o IMC calculado em **Peso ideal 1**) desses pacientes."
   ]
  },
  {
   "cell_type": "code",
   "execution_count": 100,
   "metadata": {},
   "outputs": [
    {
     "name": "stdout",
     "output_type": "stream",
     "text": [
      "Lista de pesos ideais:\n",
      "Altura: 1.95 m | Peso Ideal: 82.51 kg\n",
      "Altura: 2.05 m | Peso Ideal: 91.19 kg\n",
      "Altura: 1.7 m | Peso Ideal: 62.71 kg\n",
      "Altura: 1.65 m | Peso Ideal: 59.08 kg\n"
     ]
    }
   ],
   "source": [
    "lista_alturas = [1.95, 2.05, 1.70, 1.65]\n",
    "\n",
    "lista_peso_ideal = []\n",
    "\n",
    "# seu código\n",
    "\n",
    "# Loop para calcular os pesos ideais\n",
    "for altura in lista_alturas:\n",
    "    peso_ideal = imc_medio * (altura ** 2)\n",
    "    lista_peso_ideal.append(peso_ideal)\n",
    "\n",
    "# Mostrar os resultados\n",
    "print(\"Lista de pesos ideais:\")\n",
    "for i in range(len(lista_alturas)):\n",
    "    print(f\"Altura: {lista_alturas[i]} m | Peso Ideal: {lista_peso_ideal[i]:.2f} kg\")"
   ]
  },
  {
   "cell_type": "markdown",
   "metadata": {},
   "source": [
    "### 09 - Peso ideal 4\n",
    "Dada uma lista de tuplas - cada elemento da lista é uma tupla contendo altura e peso de um paciente - crie uma nova lista com o IMC desses pacientes."
   ]
  },
  {
   "cell_type": "code",
   "execution_count": 101,
   "metadata": {},
   "outputs": [
    {
     "name": "stdout",
     "output_type": "stream",
     "text": [
      "Lista de IMCs dos pacientes:\n",
      "Paciente 1 - Altura: 1.8 m | Peso: 90 kg | IMC: 27.78\n",
      "Paciente 2 - Altura: 1.65 m | Peso: 75 kg | IMC: 27.55\n",
      "Paciente 3 - Altura: 1.91 m | Peso: 70 kg | IMC: 19.19\n"
     ]
    }
   ],
   "source": [
    "altura_peso = [(1.80, 90), (1.65, 75), (1.91, 70)]\n",
    "\n",
    "imc = []\n",
    "\n",
    "# seu código\n",
    "\n",
    "# Loop para calcular os IMCs e adicionar à lista\n",
    "for paciente in altura_peso:\n",
    "    altura, peso = paciente\n",
    "    imc_paciente = peso / (altura ** 2)\n",
    "    imc.append(imc_paciente)\n",
    "\n",
    "# Mostrar os resultados\n",
    "print(\"Lista de IMCs dos pacientes:\")\n",
    "for i in range(len(altura_peso)):\n",
    "    print(f\"Paciente {i+1} - Altura: {altura_peso[i][0]} m | Peso: {altura_peso[i][1]} kg | IMC: {imc[i]:.2f}\")"
   ]
  },
  {
   "cell_type": "markdown",
   "metadata": {},
   "source": [
    "### 10 - Peso ideal 5\n",
    "Dada uma lista de **listas** - cada elemento da lista é uma **lista** contendo altura e peso de um paciente, adicione mais um elemento à lista de cada paciente contendo o IMC do paciente. Verifique também se é 'baixo', 'normal' ou 'alto' segundo os padrões da OMS em que normal é entre 18.5 e 24.9.\n",
    "\n",
    "Reflexão: por que no problema anterior temos que criar uma nova lista, e não podemos adicionar os dados de cada indivíduo à tupla?"
   ]
  },
  {
   "cell_type": "code",
   "execution_count": 9,
   "metadata": {},
   "outputs": [
    {
     "data": {
      "text/plain": [
       "[[1.8, 90, 27.777777777777775, 'alto'],\n",
       " [1.65, 75, 27.548209366391188, 'alto'],\n",
       " [1.91, 70, 19.188070502453332, 'normal']]"
      ]
     },
     "execution_count": 9,
     "metadata": {},
     "output_type": "execute_result"
    }
   ],
   "source": [
    "altura_peso = [[1.80, 90], [1.65, 75], [1.91, 70]]\n",
    "\n",
    "# seu código\n",
    "# Loop para calcular os IMCs e adicionar à lista\n",
    "for paciente in altura_peso:\n",
    "    altura, peso = paciente\n",
    "    imc_paciente = peso / (altura ** 2)\n",
    "    paciente.append(imc_paciente)\n",
    "    \n",
    "    # Verificar a categoria de IMC\n",
    "    if imc_paciente < 18.5:\n",
    "        categoria = 'baixo'\n",
    "    elif imc_paciente >= 18.5 and imc_paciente <= 24.9:\n",
    "        categoria = 'normal'\n",
    "    else:\n",
    "        categoria = 'alto'\n",
    "        \n",
    "    paciente.append(categoria)\n",
    "\n",
    "# Mostrar os resultados\n",
    "print(\"Lista de pacientes com IMC e categorias:\")\n",
    "for i in range(len(altura_peso)):\n",
    "    print(f\"Paciente {i+1} - Altura: {altura_peso[i][0]} m | Peso: {altura_peso[i][1]} kg | IMC: {altura_peso[i][2]:.2f} | Categoria: {altura_peso[i][3]}\")"
   ]
  }
 ],
 "metadata": {
  "kernelspec": {
   "display_name": "Python 3 (ipykernel)",
   "language": "python",
   "name": "python3"
  },
  "language_info": {
   "codemirror_mode": {
    "name": "ipython",
    "version": 3
   },
   "file_extension": ".py",
   "mimetype": "text/x-python",
   "name": "python",
   "nbconvert_exporter": "python",
   "pygments_lexer": "ipython3",
   "version": "3.11.4"
  }
 },
 "nbformat": 4,
 "nbformat_minor": 4
}
