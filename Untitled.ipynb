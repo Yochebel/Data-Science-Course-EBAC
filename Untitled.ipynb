{
 "cells": [
  {
   "cell_type": "markdown",
   "id": "9a5464ba",
   "metadata": {},
   "source": [
    "## Script de Análise de Dados - Figaro\n",
    "\n",
    "O script em Python a seguir realiza uma análise de dados para gerar o arquivo Figaro, incluindo a combinação de dados de diferentes fontes, processamento de informações e a geração de um arquivo final. \n",
    "\n",
    "*The following Python script performs data analysis to generate the Figaro file, including combining data from different sources, processing information, and generating a final file.*"
   ]
  },
  {
   "cell_type": "markdown",
   "id": "6bd0dd62",
   "metadata": {},
   "source": [
    "#### 1. Importando bibliotecas:\n",
    "\n",
    "Importa as bibliotecas necessárias para o script, como pandas para manipulação de dados, numpy para operações numéricas, functools para funções de alta ordem, datetime para manipulação de datas, glob para manipulação de caminhos de arquivo, os para manipulação de sistema de arquivos e relativedelta para cálculos de datas.\n",
    "\n",
    "*Imports the necessary libraries for the script, such as pandas for data manipulation, numpy for numeric operations, functools for high-order functions, datetime for date manipulation, glob for file path manipulation, os for file system manipulation, and relativedelta for date calculations.*"
   ]
  },
  {
   "cell_type": "code",
   "execution_count": 8,
   "id": "5a407a6f",
   "metadata": {},
   "outputs": [],
   "source": [
    "# Importar bibliotecas\n",
    "import pandas as pd     # Pandas é usado para manipulação de dados tabulares\n",
    "import numpy as np      # NumPy é usado para operações numéricas eficientes\n",
    "import functools as ft  # Funções de alta ordem, úteis para programação funcional\n",
    "import datetime as dt   # Manipulação de datas\n",
    "import glob             # Para trabalhar com caminhos de arquivo usando curingas\n",
    "import os               # Funcionalidades do sistema operacional\n",
    "\n",
    "from dateutil.relativedelta import relativedelta  # Cálculos de diferenças de datas"
   ]
  },
  {
   "cell_type": "markdown",
   "id": "86374218",
   "metadata": {},
   "source": [
    "#### 2. Variaveis e Parâmetros:\n",
    "\n",
    "Define algumas variáveis e parâmetros para o ciclo, como o exercício, o tipo, a versão do arquivo, o nome do arquivo va05, taxas de câmbio, e os últimos 12 meses.\n",
    "\n",
    "*Defines some variables and parameters for the cycle, such as the fiscal year, type, file version, va05 file name, exchange rates, and the last 12 months.*"
   ]
  },
  {
   "cell_type": "code",
   "execution_count": 9,
   "id": "82cba802",
   "metadata": {},
   "outputs": [],
   "source": [
    "# Variáveis a serem revisadas em todo ciclo\n",
    "exercicio = 'IBP'              # Ano fiscal\n",
    "ciclo = '02-2024'              # Mês do ciclo\n",
    "tipo = 'irrestrita'            # Tipo de demanda (irrestrita ou consensada)\n",
    "fileversion = ' Feb-May v2'    # Versão do arquivo\n",
    "va05name = '/va05 17.11.xlsx'  # Nome do arquivo va05\n",
    "\n",
    "# Taxas de câmbio para anos fiscais futuros\n",
    "fxrate = pd.DataFrame({'FY': ['FY24', 'FY25', 'FY26'], \n",
    "                       'Rate': [5.15, 5.40, 5.70]}) \n",
    "\n",
    "# Últimos 12 meses\n",
    "last12months = [\"DEC'22\", \"JAN'23\", \"FEB'23\", \"MAR'23\", \"APR'23\", \"MAY'23\", \n",
    "                \"JUN'23\", \"JUL'23\", \"AUG'23\", \"SEP'23\", \"OCT'23\", \"NOV'23\"]  "
   ]
  },
  {
   "cell_type": "markdown",
   "id": "804a144c",
   "metadata": {},
   "source": [
    "#### 3. Defindo caminhos:\n",
    "\n",
    "Define caminhos para diretórios e usa a biblioteca glob para obter uma lista de nomes de arquivos de demanda com base no exercício.\n",
    "\n",
    "*Defines paths to directories and uses the glob library to obtain a list of demand file names based on the exercise.*"
   ]
  },
  {
   "cell_type": "code",
   "execution_count": 10,
   "id": "8a6f48ab",
   "metadata": {},
   "outputs": [],
   "source": [
    "# Criando variáveis e tabelas\n",
    "path = 'C:/Users/jsachetti/WestRock Co/Commercial Excellence - ComEx Brazil - Commex/02. Paper/03. Planning/Unconstrained Demand/'\n",
    "path2 = 'C:/Users/jsachetti/WestRock Co/Commercial Excellence - ComEx Brazil - Commex/02. Paper/07. Data Base/Official DB/'\n",
    "pathSP = 'C:/Users/jsachetti/OneDrive - WestRock Co/VA05'\n",
    "demandnames = glob.glob(path + exercicio + '/*.xlsx')  # Lista de nomes de arquivos de demanda"
   ]
  },
  {
   "cell_type": "markdown",
   "id": "a7c7b3fe",
   "metadata": {},
   "source": [
    "#### 4. Definindo dicionários:\n",
    "\n",
    "Define dicionários para mapear/especificar o produto, tipos de papel e listas de gramatura.\n",
    "\n",
    "*Defines dictionaries to map/specify product, paper types, and weight lists.*"
   ]
  },
  {
   "cell_type": "code",
   "execution_count": 11,
   "id": "1231ac30",
   "metadata": {},
   "outputs": [],
   "source": [
    "# pricenames = glob.glob(path + 'Prices/*.xlsx')\n",
    "tipo_papel = {'KRAFT': 'KRAFT', 'KRAFT (KP)': 'KRAFT', 'KRAFT PONTAS MTS (PSKE)': 'KRAFT SELECT SIDE ROLLS',\n",
    "              'KRAFT PONTAS MTO (PSKP)': 'KRAFT SELECT SIDE ROLLS', 'KRAFT REJECTS (KR)': 'KRAFT REJECTS',\n",
    "              'MEDIUM (MP)': 'MEDIUM', 'MEDIUM PONTAS MTS (PSME)': 'MEDIUM SELECT SIDE ROLLS',\n",
    "              'MEDIUM PONTAS MTO (PSMP)': 'MEDIUM SELECT SIDE ROLLS', 'MEDIUM REJECTS (MR)': 'MEDIUM REJECTS'}\n",
    "\n",
    "gramatura = ['PONTA KRAFT', 'PONTA MIOLO', 'HPMFT170', 'MWRFT170', 'HPLFT185', 'HPLFT225', 'HPLFT120']"
   ]
  },
  {
   "cell_type": "markdown",
   "id": "26e0f278",
   "metadata": {},
   "source": [
    "#### 5. Delimitando período:\n",
    "\n",
    "Cria um calendário com base em uma data de início e gera algumas colunas relevantes, como ano fiscal, trimestre e formato da data.\n",
    "\n",
    "*Creates a calendar based on a start date and generates some relevant columns, such as fiscal year, quarter, and date format.*"
   ]
  },
  {
   "cell_type": "code",
   "execution_count": 13,
   "id": "0b4a2a9f",
   "metadata": {},
   "outputs": [],
   "source": [
    "# Criando calendário (revisar na virada do ano fiscal)\n",
    "calendar = pd.date_range(start='10/1/2023', periods=48, freq='M', name=\"date\")\n",
    "calendar2 = calendar.to_frame()\n",
    "calendar2['Quarter'] = calendar.to_period('Q-SEP')\n",
    "calendar2['FY'] = calendar2['Quarter'].dt.qyear\n",
    "calendar2['cal'] = calendar2['date'].dt.to_period('M')\n",
    "calendar2 = calendar2[['FY', 'cal']]\n",
    "calendar2 = calendar2.replace([2024], \"FY24\")\n",
    "calendar2 = calendar2.replace([2025], \"FY25\")\n",
    "calendar2 = calendar2.replace([2026], \"FY26\")\n",
    "calendar2['cal'] = calendar2['cal'].dt.strftime('%Y-%m')"
   ]
  },
  {
   "cell_type": "markdown",
   "id": "0450406c",
   "metadata": {},
   "source": [
    "#### 6. Concatenando dados:\n",
    "\n",
    "Lê os arquivos de demanda, concatena e derrete para obter uma tabela de preços agregada por cliente, linha de produto, moeda e calendário.\n",
    "\n",
    "*Reads demand files, concatenates, and melts to obtain an aggregated pricing table by customer, product line, currency, and calendar.*"
   ]
  },
  {
   "cell_type": "code",
   "execution_count": null,
   "id": "82b1eaf9",
   "metadata": {},
   "outputs": [],
   "source": [
    "# Trabalhando na lista de preços\n",
    "prices = pd.DataFrame()\n",
    "for file in demandnames:\n",
    "    df = pd.concat(pd.read_excel(file, sheet_name=[1]), ignore_index=True, sort=False)\n",
    "    prices = prices.append(df, ignore_index=True)\n",
    "prices = pd.melt(prices, id_vars=['SALES CHANNEL', 'ID SAP', 'CUSTOMER', 'PRODUCT LINE', 'REGION', 'COUNTRY'],\n",
    "                 value_name='Price', var_name='calendar')\n",
    "prices['CURRENCY'] = np.where(prices['COUNTRY'] == 'Brasil', 'BRL', 'USD')\n",
    "prices = prices[prices['Price'] != 0]\n",
    "prices = prices.groupby(['CUSTOMER', 'PRODUCT LINE', 'CURRENCY', 'calendar'])['Price'].mean().reset_index()"
   ]
  },
  {
   "cell_type": "markdown",
   "id": "27dc92b4",
   "metadata": {},
   "source": [
    "#### 7. Dando oriegem a Figaro:\n",
    "\n",
    "Realiza um processo semelhante para os arquivos do Galileo, criando uma tabela chamada \"figaro\" com dados de volume e outras informações.\n",
    "\n",
    "*Performs a similar process for Galileo files, creating a table called \"figaro\" with volume data and other information.*"
   ]
  },
  {
   "cell_type": "code",
   "execution_count": null,
   "id": "18005be5",
   "metadata": {},
   "outputs": [],
   "source": [
    "# juntando os arquivos do Galileo e criando versão crua do Figaro\n",
    "figaro = pd.DataFrame()\n",
    "for file in demandnames:\n",
    "    df = pd.concat(pd.read_excel(file, sheet_name=[0]), ignore_index=True, sort=False)\n",
    "    figaro = figaro.append(df, ignore_index=True)\n",
    "figaro = pd.melt(figaro, id_vars=['SALES CHANNEL', 'ID SAP', 'CUSTOMER', 'PRODUCT LINE', 'REGION', 'COUNTRY'],\n",
    "                 value_name='Volume', var_name='calendar')\n",
    "figaro = figaro[figaro['Volume'] != 0]\n",
    "figaro['ID SAP'] = np.where(figaro['ID SAP'] == '-', figaro['CUSTOMER'], figaro['ID SAP'])\n"
   ]
  },
  {
   "cell_type": "markdown",
   "id": "5d7dc346",
   "metadata": {},
   "source": [
    "#### 8. Lendo a VA05:\n",
    "\n",
    "Lê o arquivo histórico (VA05), realiza algumas manipulações nos dados, ajusta nomes de pesquisa, emissores de ordem e gramaturas, e cria uma tabela ajustada chamada \"history_ajustado\".\n",
    "\n",
    "*It reads the history file (VA05), performs some manipulations on the data, adjusts search names, order senders and weights, and creates an adjusted table called \"history_adjustado\".*"
   ]
  },
  {
   "cell_type": "code",
   "execution_count": null,
   "id": "4cc20884",
   "metadata": {},
   "outputs": [],
   "source": [
    "# trabalhando no arquivo histórico\n",
    "sales_history = pd.read_excel(pathSP + va05name)\n",
    "sales_history['Papel'] = np.where(sales_history['Tipo Venda'] + sales_history['Papel'] == 'MTOKRAFT', 'KRAFT',\n",
    "                                   np.where(sales_history['Tipo Venda'] + sales_history['Papel'] == 'MTOMIOLO', 'MEDIUM',\n",
    "                                            np.where(sales_history['Tipo Venda'] + sales_history['Papel'] == 'MTSKRAFT',\n",
    "                                                     'KRAFT SELECT SIDE ROLLS',\n",
    "                                                     np.where(sales_history['Tipo Venda'] + sales_history['Papel'] == 'MTSREFUGO',\n",
    "                                                              'REJECTS', 'MEDIUM SELECT SIDE ROLLS'))))\n",
    "history_ajustado = history_no = sales_history.copy()\n",
    "history_ajustado['Nome Pesquisa'] = np.where(\n",
    "    history_ajustado['Nome Pesquisa'].isin(['KALYAR', 'NIXON', 'PACK-O-MAT']), 'BANGKOR',\n",
    "    history_ajustado['Nome Pesquisa'])\n",
    "history_ajustado['Emissor da ordem'] = np.where(history_ajustado['Nome Pesquisa'] == 'BANGKOR', 111111,\n",
    "                                                history_ajustado['Emissor da ordem'])\n",
    "history_ajustado['Gramatura'] = history_ajustado['Gramatura'].replace(['265'], '240')\n",
    "history_ajustado = history_ajustado.groupby(\n",
    "    ['Emissor da ordem', 'Nome Pesquisa', 'Papel', 'Gramatura'])['Qtd.ordem'].sum().reset_index()\n",
    "history_ajustado['multiplier'] = history_ajustado['Qtd.ordem'] / history_ajustado.groupby(\n",
    "    ['Emissor da ordem', 'Papel'])['Qtd.ordem'].transform('sum')\n",
    "history_ajustado = history_ajustado.drop(['Qtd.ordem'], axis=1)"
   ]
  },
  {
   "cell_type": "markdown",
   "id": "de8666f7",
   "metadata": {},
   "source": [
    "#### 9. Segregando dados:\n",
    "\n",
    "Segrega os dados da Smurfit em duas partes (Argentina e Chile) e concatena.\n",
    "\n",
    "*Segregates Smurfit data into two parts (Argentina and Chile) and concatenates.*"
   ]
  },
  {
   "cell_type": "code",
   "execution_count": null,
   "id": "be946a00",
   "metadata": {},
   "outputs": [],
   "source": [
    "# segregando Smurfit para quebrar por Argentina e Chile\n",
    "smurfitA = history_ajustado[history_ajustado['Nome Pesquisa'] == 'SMURFIT USA']\n",
    "smurfitB = history_ajustado[history_ajustado['Nome Pesquisa'] == 'SMURFIT USA']\n",
    "smurfitA['Nome Pesquisa'] = 'SMURFIT'\n",
    "smurfitA['Emissor da ordem'] = 250410\n",
    "smurfitB['Nome Pesquisa'] = 'SMURFIT CHILE'\n",
    "smurfitB['Emissor da ordem'] = 253727\n",
    "smurfit = pd.concat([smurfitA, smurfitB])\n",
    "\n",
    "history_ajustado = history_ajustado[history_ajustado['Nome Pesquisa'] != 'SMURFIT USA']\n",
    "history_ajustado = history_ajustado[history_ajustado['Nome Pesquisa'] != 'SMURFIT BENTO']"
   ]
  },
  {
   "cell_type": "markdown",
   "id": "56c0a329",
   "metadata": {},
   "source": [
    "#### 10. Fundindo a \"figaro\" e \"history_ajustado\":\n",
    "\n",
    "Realiza uma fusão (merge) entre a tabela \"figaro\" e \"history_ajustado\", identifica os clientes que não têm histórico e cria a tabela \"novos_clientes\".\n",
    "\n",
    "*Performs a merge between the \"figaro\" and \"history_ajustado\" tables, identifies customers that have no history and creates the \"novos_clientes\" table.*"
   ]
  },
  {
   "cell_type": "code",
   "execution_count": null,
   "id": "1193cf62",
   "metadata": {},
   "outputs": [],
   "source": [
    "# separando os clientes que não têm histórico\n",
    "novos_clientes = pd.merge(figaro, history_ajustado, how='outer', left_on=['ID SAP', 'PRODUCT LINE'],\n",
    "                          right_on=['Emissor da ordem', 'Papel'], indicator=True)\n",
    "novos_clientes = novos_clientes[novos_clientes['_merge'] == 'left_only']\n",
    "novos_clientes = novos_clientes.groupby(['ID SAP', 'CUSTOMER', 'COUNTRY', 'PRODUCT LINE'])['Volume'].sum().reset_index()\n",
    "novos_clientes = novos_clientes.drop(['Volume'], axis=1)\n",
    "novos_clientes = novos_clientes.rename(columns={'ID SAP': 'Emissor da ordem'})"
   ]
  },
  {
   "cell_type": "markdown",
   "id": "ad904ae2",
   "metadata": {},
   "source": [
    "#### 11. Gerando histórico:\n",
    "\n",
    "Cria um histórico para clientes sem histórico, ajusta alguns valores e adiciona esses clientes ao histórico ajustado.\n",
    "\n",
    "*Creates a history for customers with no history, adjusts some values, and adds these customers to the adjusted history.*"
   ]
  },
  {
   "cell_type": "code",
   "execution_count": null,
   "id": "c02b977e",
   "metadata": {},
   "outputs": [],
   "source": [
    "# criando histórico para clientes sem histórico e plugando no histórico ajustado\n",
    "history_no = history_no.groupby(['Pais', 'Papel', 'Gramatura'])['Qtd.ordem'].sum().reset_index()\n",
    "history_no['multiplier'] = history_no['Qtd.ordem'] / history_no.groupby(['Pais', 'Papel'])['Qtd.ordem'].transform('sum')\n",
    "history_no['Pais'] = history_no['Pais'].str.replace('México', 'Mexico')\n",
    "history_no['Pais'] = history_no['Pais'].str.replace('Colômbia', 'Colombia')\n",
    "history_no['Pais'] = history_no['Pais'].str.replace('Tailândia', 'Thailand')\n",
    "history_no = pd.merge(history_no, novos_clientes, how='inner', left_on=['Pais', 'Papel'],\n",
    "                      right_on=['COUNTRY', 'PRODUCT LINE'])\n",
    "history_no = history_no.drop(['COUNTRY', 'Pais', 'Qtd.ordem', 'PRODUCT LINE'], axis=1)\n",
    "history_no = history_no[history_no['CUSTOMER'].str.contains('SMURFIT|SMURFIT CHILE') == False]\n",
    "history_no = history_no.rename(columns={'CUSTOMER': 'Nome Pesquisa'})\n",
    "\n",
    "history_ajustado = pd.concat([history_ajustado, history_no, smurfit])\n",
    "history_ajustado['Emissor da ordem'] = np.where(history_ajustado['Emissor da ordem'] == '-',\n",
    "                                                 history_ajustado['Nome Pesquisa'],\n",
    "                                                 history_ajustado['Emissor da ordem'])"
   ]
  },
  {
   "cell_type": "markdown",
   "id": "014e6c1e",
   "metadata": {},
   "source": [
    "#### 11. Incrementando a \"figaro\":\n",
    "\n",
    "Incrementa a tabela \"figaro\" com os dados do histórico ajustado, ajusta o volume com um multiplicador e remove colunas desnecessárias.\n",
    "\n",
    "*Increments the \"figaro\" table with the adjusted history data, adjusts the volume with a multiplier and removes unnecessary columns.*"
   ]
  },
  {
   "cell_type": "code",
   "execution_count": null,
   "id": "0dc542a1",
   "metadata": {},
   "outputs": [],
   "source": [
    "# incrementando o Figaro\n",
    "figaro = pd.merge(figaro, history_ajustado, how='left', left_on=['ID SAP', 'PRODUCT LINE'],\n",
    "                  right_on=['Emissor da ordem', 'Papel'])\n",
    "figaro['multiplier'] = figaro['multiplier'].fillna(1)\n",
    "figaro['Volume'] = figaro['Volume'] * figaro['multiplier']\n",
    "figaro = figaro.drop(['Nome Pesquisa', 'Papel', 'multiplier'], axis=1)"
   ]
  },
  {
   "cell_type": "markdown",
   "id": "f7fda6ff",
   "metadata": {},
   "source": [
    "#### 12. Dados modais:\n",
    "\n",
    "Lê os dados modais de um arquivo Excel.\n",
    "\n",
    "*Reads modal data from an Excel file.*"
   ]
  },
  {
   "cell_type": "code",
   "execution_count": null,
   "id": "9d8b8a67",
   "metadata": {},
   "outputs": [],
   "source": [
    "# trazendo modal\n",
    "modal = pd.read_excel(path2 + r'Base de Dados - Figaro.xlsx', sheet_name='DADOS')\n",
    "modal = modal[['SHORT NAME', 'MODAL']]\n",
    "modal = modal.drop_duplicates()"
   ]
  },
  {
   "cell_type": "markdown",
   "id": "01b433e3",
   "metadata": {},
   "source": [
    "#### 13. Incrementando a \"figaro\":\n",
    "\n",
    "Combina as tabelas \"figaro\" com informações modais, de calendário, de taxas de câmbio e de preços.\n",
    "\n",
    "*Combines \"figaro\" tables with modal, calendar, exchange rate and price information.*"
   ]
  },
  {
   "cell_type": "code",
   "execution_count": null,
   "id": "b3ba5682",
   "metadata": {},
   "outputs": [],
   "source": [
    "# combinando MODAL | CALENDÁRIO | FX RATE | PREÇOS\n",
    "figaro = pd.merge(figaro, modal, how='left', left_on='CUSTOMER', right_on='SHORT NAME')\n",
    "figaro = pd.merge(figaro, calendar2, how='left', left_on='calendar', right_on='cal')\n",
    "figaro = pd.merge(figaro, fxrate, how='left', on='FY')\n",
    "figaro = pd.merge(figaro, prices, how='left', on=['PRODUCT LINE', 'CUSTOMER', 'calendar'])"
   ]
  },
  {
   "cell_type": "markdown",
   "id": "1ea77a3b",
   "metadata": {},
   "source": [
    "#### 14. Ajustando multiplicador:\n",
    "\n",
    "Lê dados de um arquivo Excel para remover volumes, ajusta um multiplicador com base no tipo, e aplica esse multiplicador aos volumes na tabela \"figaro\".\n",
    "\n",
    "*Reads data from an Excel file to remove volumes, adjusts a multiplier based on the type, and applies that multiplier to the volumes in the \"figaro\" table.*"
   ]
  },
  {
   "cell_type": "code",
   "execution_count": null,
   "id": "1ea87f1a",
   "metadata": {},
   "outputs": [],
   "source": [
    "# Consensando a demanda\n",
    "remover = pd.read_excel(path + r'Arquivos Suporte/Volume - Remover.xlsx', sheet_name='Sheet2')\n",
    "remover = pd.melt(remover, id_vars=['PRODUCT LINE'], value_name='multiplicador', var_name='calendar')\n",
    "remover['multiplicador'] = np.where(tipo == 'irrestrita', 1, remover['multiplicador'])\n",
    "figaro = pd.merge(figaro, remover, how='left', on=['PRODUCT LINE', 'calendar'])\n",
    "figaro['Volume'] = figaro['Volume'] * figaro['multiplicador']"
   ]
  },
  {
   "cell_type": "markdown",
   "id": "fbdee7a6",
   "metadata": {},
   "source": [
    "#### 15. Calculo de receitas:\n",
    "\n",
    "Calcula receitas em R$ e USD com base nas informações de moeda e taxa de câmbio.\n",
    "\n",
    "*Calculates revenue in R$ and USD based on currency and exchange rate information.*"
   ]
  },
  {
   "cell_type": "code",
   "execution_count": null,
   "id": "93bc5ee4",
   "metadata": {},
   "outputs": [],
   "source": [
    "# receitas em R$ e USD\n",
    "figaro['Price USD'] = np.where(figaro['CURRENCY'] == 'USD', figaro['Price'], figaro['Price'] / figaro['Rate'])\n",
    "figaro['Price BRL'] = np.where(figaro['CURRENCY'] == 'BRL', figaro['Price'], figaro['Price'] * figaro['Rate'])\n",
    "figaro['Receita R$'] = np.where(figaro['CURRENCY'] == 'BRL', figaro['Volume'] * figaro['Price'],\n",
    "                                figaro['Volume'] * figaro['Price'] * figaro['Rate'])\n",
    "figaro['Receita US$'] = np.where(figaro['CURRENCY'] == 'USD', figaro['Volume'] * figaro['Price'],\n",
    "                                 (figaro['Volume'] * figaro['Price']) / figaro['Rate'])"
   ]
  },
  {
   "cell_type": "markdown",
   "id": "e7ed3f85",
   "metadata": {},
   "source": [
    "#### 16. Refinando tabela final:\n",
    "\n",
    "Remove colunas desnecessárias, ajusta valores nulos e salva a tabela final como um arquivo Excel.\n",
    "\n",
    "*Removes unnecessary columns, adjusts null values, and saves the final table as an Excel file.*"
   ]
  },
  {
   "cell_type": "code",
   "execution_count": null,
   "id": "2de3c5ce",
   "metadata": {},
   "outputs": [],
   "source": [
    "# mudanças comésticas\n",
    "figaro = figaro.drop(['cal', 'multiplicador', 'Emissor da ordem', 'SHORT NAME', 'Price'], axis=1)\n",
    "# aba Raw Data\n",
    "figaro['Volume'] = figaro['Volume'].fillna(0)\n",
    "figaro = figaro[figaro['Volume'] != 0]\n",
    "os.chdir(path + r'/Arquivos Finais')\n",
    "# figaro.to_excel('Figaro '+ ciclo + fileversion + '.xlsx', index=False, sheet_name= 'Raw Data')"
   ]
  },
  {
   "cell_type": "markdown",
   "id": "382dfc53",
   "metadata": {},
   "source": [
    "#### 17. Gerando segundo arquivo excel:\n",
    "\n",
    "Ajustando o volume novamente com base em um segundo conjunto de dados, ajusta o volume conforme a região e salva a tabela final como um segundo arquivo Excel."
   ]
  },
  {
   "cell_type": "code",
   "execution_count": null,
   "id": "e12f18be",
   "metadata": {},
   "outputs": [],
   "source": [
    "# Ajustando o acordo do Fede.\n",
    "remover = pd.read_excel(path + r'Arquivos Suporte/Volume - Remover.xlsx', sheet_name='Sheet2')\n",
    "remover = pd.melt(remover, id_vars=['PRODUCT LINE'], value_name='multiplicador', var_name='calendar')\n",
    "figaro2 = figaro.copy()\n",
    "figaro2 = pd.merge(figaro2, remover, how='left', on=['PRODUCT LINE', 'calendar'])\n",
    "figaro2['Volume'] = np.where(figaro2['REGION'].isin(['Pacific End', 'South Cone']),\n",
    "                             figaro2['Volume'] * figaro2['multiplicador'], figaro2['Volume'])\n",
    "figaro2 = figaro2.drop(['multiplicador'], axis=1)\n",
    "figaro2.to_excel('Figaro ' + ciclo + fileversion + '.xlsx', index=False, sheet_name='Raw Data')"
   ]
  }
 ],
 "metadata": {
  "kernelspec": {
   "display_name": "Python 3 (ipykernel)",
   "language": "python",
   "name": "python3"
  },
  "language_info": {
   "codemirror_mode": {
    "name": "ipython",
    "version": 3
   },
   "file_extension": ".py",
   "mimetype": "text/x-python",
   "name": "python",
   "nbconvert_exporter": "python",
   "pygments_lexer": "ipython3",
   "version": "3.11.5"
  }
 },
 "nbformat": 4,
 "nbformat_minor": 5
}
