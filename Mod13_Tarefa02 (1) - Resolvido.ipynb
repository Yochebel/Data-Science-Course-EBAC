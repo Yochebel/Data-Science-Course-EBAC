{
 "cells": [
  {
   "cell_type": "markdown",
   "metadata": {},
   "source": [
    "# EBAC - Regressão II - regressão múltipla\n",
    "\n",
    "## Tarefa I"
   ]
  },
  {
   "cell_type": "markdown",
   "metadata": {},
   "source": [
    "#### Previsão de renda II\n",
    "\n",
    "Vamos continuar trabalhando com a base 'previsao_de_renda.csv', que é a base do seu próximo projeto. Vamos usar os recursos que vimos até aqui nesta base.\n",
    "\n",
    "|variavel|descrição|\n",
    "|-|-|\n",
    "|data_ref                | Data de referência de coleta das variáveis |\n",
    "|index                   | Código de identificação do cliente|\n",
    "|sexo                    | Sexo do cliente|\n",
    "|posse_de_veiculo        | Indica se o cliente possui veículo|\n",
    "|posse_de_imovel         | Indica se o cliente possui imóvel|\n",
    "|qtd_filhos              | Quantidade de filhos do cliente|\n",
    "|tipo_renda              | Tipo de renda do cliente|\n",
    "|educacao                | Grau de instrução do cliente|\n",
    "|estado_civil            | Estado civil do cliente|\n",
    "|tipo_residencia         | Tipo de residência do cliente (própria, alugada etc)|\n",
    "|idade                   | Idade do cliente|\n",
    "|tempo_emprego           | Tempo no emprego atual|\n",
    "|qt_pessoas_residencia   | Quantidade de pessoas que moram na residência|\n",
    "|renda                   | Renda em reais|"
   ]
  },
  {
   "cell_type": "code",
   "execution_count": 1,
   "metadata": {},
   "outputs": [],
   "source": [
    "import pandas as pd"
   ]
  },
  {
   "cell_type": "code",
   "execution_count": 2,
   "metadata": {},
   "outputs": [],
   "source": [
    "df = pd.read_csv('previsao_de_renda.csv')"
   ]
  },
  {
   "cell_type": "code",
   "execution_count": 3,
   "metadata": {},
   "outputs": [
    {
     "name": "stdout",
     "output_type": "stream",
     "text": [
      "<class 'pandas.core.frame.DataFrame'>\n",
      "RangeIndex: 15000 entries, 0 to 14999\n",
      "Data columns (total 16 columns):\n",
      " #   Column                 Non-Null Count  Dtype  \n",
      "---  ------                 --------------  -----  \n",
      " 0   Unnamed: 0             15000 non-null  int64  \n",
      " 1   data_ref               15000 non-null  object \n",
      " 2   index                  15000 non-null  int64  \n",
      " 3   sexo                   15000 non-null  object \n",
      " 4   posse_de_veiculo       15000 non-null  bool   \n",
      " 5   posse_de_imovel        15000 non-null  bool   \n",
      " 6   qtd_filhos             15000 non-null  int64  \n",
      " 7   tipo_renda             15000 non-null  object \n",
      " 8   educacao               15000 non-null  object \n",
      " 9   estado_civil           15000 non-null  object \n",
      " 10  tipo_residencia        15000 non-null  object \n",
      " 11  idade                  15000 non-null  int64  \n",
      " 12  tempo_emprego          12466 non-null  float64\n",
      " 13  qt_pessoas_residencia  15000 non-null  float64\n",
      " 14  mau                    15000 non-null  bool   \n",
      " 15  renda                  15000 non-null  float64\n",
      "dtypes: bool(3), float64(3), int64(4), object(6)\n",
      "memory usage: 1.5+ MB\n"
     ]
    }
   ],
   "source": [
    "df.info()"
   ]
  },
  {
   "cell_type": "markdown",
   "metadata": {},
   "source": [
    "1. Separe a base em treinamento e teste (25% para teste, 75% para treinamento).\n",
    "2. Rode uma regularização *ridge* com alpha = [0, 0.001, 0.005, 0.01, 0.05, 0.1] e avalie o $R^2$ na base de testes. Qual o melhor modelo?\n",
    "3. Faça o mesmo que no passo 2, com uma regressão *LASSO*. Qual método chega a um melhor resultado?\n",
    "4. Rode um modelo *stepwise*. Avalie o $R^2$ na vase de testes. Qual o melhor resultado?\n",
    "5. Compare os parâmetros e avalie eventuais diferenças. Qual modelo você acha o melhor de todos?\n",
    "6. Partindo dos modelos que você ajustou, tente melhorar o $R^2$ na base de testes. Use a criatividade, veja se consegue inserir alguma transformação ou combinação de variáveis.\n",
    "7. Ajuste uma árvore de regressão e veja se consegue um $R^2$ melhor com ela."
   ]
  },
  {
   "cell_type": "code",
   "execution_count": 4,
   "metadata": {},
   "outputs": [],
   "source": [
    "import seaborn as sns\n",
    "import patsy\n",
    "from seaborn import load_dataset\n",
    "\n",
    "import matplotlib.pyplot as plt\n",
    "\n",
    "import numpy as np\n",
    "\n",
    "import statsmodels.api as sm\n",
    "import statsmodels.formula.api as smf\n",
    "\n",
    "from sklearn.model_selection import train_test_split\n",
    "from sklearn.metrics import r2_score"
   ]
  },
  {
   "cell_type": "markdown",
   "metadata": {},
   "source": [
    "### Item 01."
   ]
  },
  {
   "cell_type": "code",
   "execution_count": 6,
   "metadata": {},
   "outputs": [
    {
     "data": {
      "text/plain": [
       "Index(['Unnamed: 0', 'data_ref', 'index', 'sexo', 'posse_de_veiculo',\n",
       "       'posse_de_imovel', 'qtd_filhos', 'tipo_renda', 'educacao',\n",
       "       'estado_civil', 'tipo_residencia', 'idade', 'tempo_emprego',\n",
       "       'qt_pessoas_residencia', 'mau', 'renda'],\n",
       "      dtype='object')"
      ]
     },
     "execution_count": 6,
     "metadata": {},
     "output_type": "execute_result"
    }
   ],
   "source": [
    "# Exibe os nomes das colunas no DataFrame df\n",
    "df.columns"
   ]
  },
  {
   "cell_type": "code",
   "execution_count": 7,
   "metadata": {},
   "outputs": [
    {
     "data": {
      "text/plain": [
       "Index(['posse_de_veiculo', 'posse_de_imovel', 'qtd_filhos', 'idade',\n",
       "       'tempo_emprego', 'qt_pessoas_residencia', 'sexo_F', 'sexo_M',\n",
       "       'tipo_renda_Assalariado', 'tipo_renda_Bolsista',\n",
       "       'tipo_renda_Empresário', 'tipo_renda_Pensionista',\n",
       "       'tipo_renda_Servidor público', 'educacao_Primário',\n",
       "       'educacao_Pós graduação', 'educacao_Secundário',\n",
       "       'educacao_Superior completo', 'educacao_Superior incompleto',\n",
       "       'estado_civil_Casado', 'estado_civil_Separado', 'estado_civil_Solteiro',\n",
       "       'estado_civil_União', 'estado_civil_Viúvo', 'tipo_residencia_Aluguel',\n",
       "       'tipo_residencia_Casa', 'tipo_residencia_Com os pais',\n",
       "       'tipo_residencia_Comunitário', 'tipo_residencia_Estúdio',\n",
       "       'tipo_residencia_Governamental'],\n",
       "      dtype='object')"
      ]
     },
     "execution_count": 7,
     "metadata": {},
     "output_type": "execute_result"
    }
   ],
   "source": [
    "# Seleciona as features (X) e a variável alvo (y) do DataFrame df\n",
    "X = df[['sexo', 'posse_de_veiculo','posse_de_imovel', 'qtd_filhos', 'tipo_renda', 'educacao',\n",
    "       'estado_civil', 'tipo_residencia', 'idade', 'tempo_emprego', 'qt_pessoas_residencia']]\n",
    "\n",
    "y = df['renda']\n",
    "\n",
    "# Aplica one-hot encoding nas features categóricas\n",
    "X = pd.get_dummies(X)\n",
    "\n",
    "# Substitui valores booleanos por 1 e 0\n",
    "X['posse_de_veiculo'] = X['posse_de_veiculo'].replace({True: 1, False: 0})\n",
    "X['posse_de_imovel'] = X['posse_de_imovel'].replace({True: 1, False: 0})\n",
    "\n",
    "# Exibe os nomes das colunas após as transformações\n",
    "X.columns"
   ]
  },
  {
   "cell_type": "code",
   "execution_count": 8,
   "metadata": {},
   "outputs": [],
   "source": [
    "# Lista de colunas após as transformações e one-hot encoding\n",
    "x_columns = ['posse_de_veiculo', 'posse_de_imovel', 'qtd_filhos', 'idade',\n",
    "       'tempo_emprego', 'qt_pessoas_residencia', 'sexo_F', 'sexo_M',\n",
    "       'tipo_renda_Assalariado', 'tipo_renda_Bolsista',\n",
    "       'tipo_renda_Empresário', 'tipo_renda_Pensionista',\n",
    "       'tipo_renda_Servidor público', 'educacao_Primário',\n",
    "       'educacao_Pós graduação', 'educacao_Secundário',\n",
    "       'educacao_Superior completo', 'educacao_Superior incompleto',\n",
    "       'estado_civil_Casado', 'estado_civil_Separado', 'estado_civil_Solteiro',\n",
    "       'estado_civil_União', 'estado_civil_Viúvo', 'tipo_residencia_Aluguel',\n",
    "       'tipo_residencia_Casa', 'tipo_residencia_Com os pais',\n",
    "       'tipo_residencia_Comunitário', 'tipo_residencia_Estúdio',\n",
    "       'tipo_residencia_Governamental']"
   ]
  },
  {
   "cell_type": "code",
   "execution_count": 9,
   "metadata": {},
   "outputs": [
    {
     "data": {
      "text/plain": [
       "'renda ~ posse_de_veiculo + posse_de_imovel + qtd_filhos + idade + tempo_emprego + qt_pessoas_residencia + sexo_F + sexo_M + tipo_renda_Assalariado + tipo_renda_Bolsista + tipo_renda_Empresário + tipo_renda_Pensionista + tipo_renda_Servidor_público + educacao_Primário + educacao_Pós_graduação + educacao_Secundário + educacao_Superior_completo + educacao_Superior_incompleto + estado_civil_Casado + estado_civil_Separado + estado_civil_Solteiro + estado_civil_União + estado_civil_Viúvo + tipo_residencia_Aluguel + tipo_residencia_Casa + tipo_residencia_Com_os_pais + tipo_residencia_Comunitário + tipo_residencia_Estúdio + tipo_residencia_Governamental'"
      ]
     },
     "execution_count": 9,
     "metadata": {},
     "output_type": "execute_result"
    }
   ],
   "source": [
    "# Renomeando as colunas substituindo espaços por underscores\n",
    "renamed_columns = []\n",
    "for name in x_columns:\n",
    "    renamed_columns.append(name.replace(\" \", \"_\"))\n",
    "\n",
    "# Atribuindo os novos nomes às colunas\n",
    "X.columns = renamed_columns\n",
    "\n",
    "# Criando a fórmula para o modelo de regressão linear\n",
    "formula = \"renda ~ \" + \" + \".join(renamed_columns)\n",
    "formula"
   ]
  },
  {
   "cell_type": "code",
   "execution_count": 10,
   "metadata": {},
   "outputs": [
    {
     "data": {
      "text/plain": [
       "posse_de_veiculo                 0\n",
       "posse_de_imovel                  0\n",
       "qtd_filhos                       0\n",
       "idade                            0\n",
       "tempo_emprego                    0\n",
       "qt_pessoas_residencia            0\n",
       "sexo_F                           0\n",
       "sexo_M                           0\n",
       "tipo_renda_Assalariado           0\n",
       "tipo_renda_Bolsista              0\n",
       "tipo_renda_Empresário            0\n",
       "tipo_renda_Pensionista           0\n",
       "tipo_renda_Servidor_público      0\n",
       "educacao_Primário                0\n",
       "educacao_Pós_graduação           0\n",
       "educacao_Secundário              0\n",
       "educacao_Superior_completo       0\n",
       "educacao_Superior_incompleto     0\n",
       "estado_civil_Casado              0\n",
       "estado_civil_Separado            0\n",
       "estado_civil_Solteiro            0\n",
       "estado_civil_União               0\n",
       "estado_civil_Viúvo               0\n",
       "tipo_residencia_Aluguel          0\n",
       "tipo_residencia_Casa             0\n",
       "tipo_residencia_Com_os_pais      0\n",
       "tipo_residencia_Comunitário      0\n",
       "tipo_residencia_Estúdio          0\n",
       "tipo_residencia_Governamental    0\n",
       "dtype: int64"
      ]
     },
     "execution_count": 10,
     "metadata": {},
     "output_type": "execute_result"
    }
   ],
   "source": [
    "# Preenchendo valores ausentes na coluna 'tempo_emprego' com zero\n",
    "X['tempo_emprego'] = X['tempo_emprego'].fillna(0)\n",
    "\n",
    "# Verificando se ainda existem valores ausentes no DataFrame X\n",
    "X.isna().sum()"
   ]
  },
  {
   "cell_type": "code",
   "execution_count": 11,
   "metadata": {},
   "outputs": [
    {
     "name": "stdout",
     "output_type": "stream",
     "text": [
      "<class 'pandas.core.frame.DataFrame'>\n",
      "Int64Index: 11250 entries, 8222 to 3003\n",
      "Data columns (total 29 columns):\n",
      " #   Column                         Non-Null Count  Dtype  \n",
      "---  ------                         --------------  -----  \n",
      " 0   posse_de_veiculo               11250 non-null  int64  \n",
      " 1   posse_de_imovel                11250 non-null  int64  \n",
      " 2   qtd_filhos                     11250 non-null  int64  \n",
      " 3   idade                          11250 non-null  int64  \n",
      " 4   tempo_emprego                  11250 non-null  float64\n",
      " 5   qt_pessoas_residencia          11250 non-null  float64\n",
      " 6   sexo_F                         11250 non-null  uint8  \n",
      " 7   sexo_M                         11250 non-null  uint8  \n",
      " 8   tipo_renda_Assalariado         11250 non-null  uint8  \n",
      " 9   tipo_renda_Bolsista            11250 non-null  uint8  \n",
      " 10  tipo_renda_Empresário          11250 non-null  uint8  \n",
      " 11  tipo_renda_Pensionista         11250 non-null  uint8  \n",
      " 12  tipo_renda_Servidor_público    11250 non-null  uint8  \n",
      " 13  educacao_Primário              11250 non-null  uint8  \n",
      " 14  educacao_Pós_graduação         11250 non-null  uint8  \n",
      " 15  educacao_Secundário            11250 non-null  uint8  \n",
      " 16  educacao_Superior_completo     11250 non-null  uint8  \n",
      " 17  educacao_Superior_incompleto   11250 non-null  uint8  \n",
      " 18  estado_civil_Casado            11250 non-null  uint8  \n",
      " 19  estado_civil_Separado          11250 non-null  uint8  \n",
      " 20  estado_civil_Solteiro          11250 non-null  uint8  \n",
      " 21  estado_civil_União             11250 non-null  uint8  \n",
      " 22  estado_civil_Viúvo             11250 non-null  uint8  \n",
      " 23  tipo_residencia_Aluguel        11250 non-null  uint8  \n",
      " 24  tipo_residencia_Casa           11250 non-null  uint8  \n",
      " 25  tipo_residencia_Com_os_pais    11250 non-null  uint8  \n",
      " 26  tipo_residencia_Comunitário    11250 non-null  uint8  \n",
      " 27  tipo_residencia_Estúdio        11250 non-null  uint8  \n",
      " 28  tipo_residencia_Governamental  11250 non-null  uint8  \n",
      "dtypes: float64(2), int64(4), uint8(23)\n",
      "memory usage: 867.9 KB\n"
     ]
    }
   ],
   "source": [
    "# Dividindo o conjunto de dados em conjuntos de treinamento e teste\n",
    "X_train, X_test, y_train, y_test = train_test_split(X, y, test_size=0.25)\n",
    "\n",
    "# Exibindo informações sobre o conjunto de treinamento\n",
    "X_train.info()"
   ]
  },
  {
   "cell_type": "code",
   "execution_count": 12,
   "metadata": {},
   "outputs": [],
   "source": [
    "# Unindo os conjuntos de treinamento de features (X_train) e alvo (y_train) em um novo DataFrame (df_test)\n",
    "df_test = X_train.merge(y_train, left_index=True, right_index=True)"
   ]
  },
  {
   "cell_type": "markdown",
   "metadata": {},
   "source": [
    "### Ridge (Reduzindo o overfitting)"
   ]
  },
  {
   "cell_type": "code",
   "execution_count": 13,
   "metadata": {},
   "outputs": [
    {
     "name": "stdout",
     "output_type": "stream",
     "text": [
      "Para o alpha=0, o R² é 0.23288443929195957\n",
      "Para o alpha=0.001, o R² é 0.23288443929195957\n",
      "Para o alpha=0.005, o R² é 0.23288443929195957\n",
      "Para o alpha=0.01, o R² é 0.23288443929195957\n",
      "Para o alpha=0.05, o R² é 0.23288443929195957\n",
      "Para o alpha=0.1, o R² é 0.23288443929195957\n"
     ]
    }
   ],
   "source": [
    "# Definindo um modelo de regressão linear usando a fórmula especificada e o conjunto de dados de treinamento\n",
    "modelo = smf.ols(formula, data=df_test)\n",
    "\n",
    "# Definindo uma lista de valores alpha para regularização\n",
    "alphas = [0, 0.001, 0.005, 0.01, 0.05, 0.1]\n",
    "\n",
    "# Listas para armazenar os valores de R² e AIC para diferentes valores de alpha\n",
    "r2s = []\n",
    "#aics = []\n",
    "\n",
    "# Loop para ajustar o modelo regularizado com diferentes valores de alpha\n",
    "for alpha in alphas:\n",
    "    reg = modelo.fit_regularized(method='elastic_net',\n",
    "                                refit=True,\n",
    "                                L1_wt=0.01,\n",
    "                                alpha=alpha)\n",
    "    # Fazendo previsões no conjunto de teste\n",
    "    y_pred = reg.predict(X_test)\n",
    "    \n",
    "    # Calculando e armazenando os valores de R²\n",
    "    r2s.append(r2_score(y_test, y_pred))\n",
    "    \n",
    "    # AIC pode ser obtido utilizando reg.aic, mas está comentado neste código\n",
    "\n",
    "# Imprimindo os resultados para cada valor de alpha\n",
    "for i in range(len(alphas)):\n",
    "    print(f\"Para o alpha={alphas[i]}, o R² é {r2s[i]}\")"
   ]
  },
  {
   "cell_type": "markdown",
   "metadata": {},
   "source": [
    "R: O R² para todos os alfas é invariável."
   ]
  },
  {
   "cell_type": "markdown",
   "metadata": {},
   "source": [
    "### Lasso (reduzindo o overfitting e a multicolinearidade)"
   ]
  },
  {
   "cell_type": "code",
   "execution_count": 14,
   "metadata": {},
   "outputs": [
    {
     "name": "stdout",
     "output_type": "stream",
     "text": [
      "Para o alpha=0, o R² é 0.23288443929195957\n",
      "Para o alpha=0.001, o R² é 0.23288443929195957\n",
      "Para o alpha=0.005, o R² é 0.23288443929195957\n",
      "Para o alpha=0.01, o R² é 0.23289887334456827\n",
      "Para o alpha=0.05, o R² é 0.23289887334456827\n",
      "Para o alpha=0.1, o R² é 0.23289887334456816\n"
     ]
    }
   ],
   "source": [
    "# Lista de valores alpha para regularização\n",
    "alphas = [0, 0.001, 0.005, 0.01, 0.05, 0.1]\n",
    "\n",
    "# Listas para armazenar os valores de R² e AIC para diferentes valores de alpha\n",
    "r2s = []\n",
    "#aics = []\n",
    "\n",
    "# Loop para ajustar o modelo regularizado com diferentes valores de alpha\n",
    "for alpha in alphas:\n",
    "    # Ajustando o modelo usando elastic net com L1_wt=1 para regularização L1 (Lasso)\n",
    "    reg = modelo.fit_regularized(method='elastic_net',\n",
    "                                refit=True,\n",
    "                                L1_wt=1,  # L1_wt=1 indica Lasso, L1_wt=0 indica Ridge\n",
    "                                alpha=alpha)\n",
    "    # Fazendo previsões no conjunto de teste\n",
    "    y_pred = reg.predict(X_test)\n",
    "    \n",
    "    # Calculando e armazenando os valores de R²\n",
    "    r2s.append(r2_score(y_test, y_pred))\n",
    "    \n",
    "    # AIC pode ser obtido utilizando reg.aic, mas está comentado neste código\n",
    "\n",
    "# Imprimindo os resultados para cada valor de alpha\n",
    "for i in range(len(alphas)):\n",
    "    print(f\"Para o alpha={alphas[i]}, o R² é {r2s[i]}\")"
   ]
  },
  {
   "cell_type": "markdown",
   "metadata": {},
   "source": [
    "### Stepwise (selecionando as variáveis mais relevantes para um modelo)"
   ]
  },
  {
   "cell_type": "code",
   "execution_count": 15,
   "metadata": {},
   "outputs": [
    {
     "name": "stdout",
     "output_type": "stream",
     "text": [
      "Adicionada tempo_emprego                  com valor p 0.0\n",
      "#############\n",
      "['tempo_emprego']\n",
      "Adicionada sexo_M                         com valor p 1.01861e-159\n",
      "#############\n",
      "['tempo_emprego', 'sexo_M']\n",
      "Adicionada tipo_renda_Assalariado         com valor p 3.16144e-64\n",
      "#############\n",
      "['tempo_emprego', 'sexo_M', 'tipo_renda_Assalariado']\n",
      "Adicionada idade                          com valor p 1.17977e-25\n",
      "#############\n",
      "['tempo_emprego', 'sexo_M', 'tipo_renda_Assalariado', 'idade']\n",
      "Adicionada educacao_Superior_completo     com valor p 6.36175e-15\n",
      "#############\n",
      "['tempo_emprego', 'sexo_M', 'tipo_renda_Assalariado', 'idade', 'educacao_Superior_completo']\n",
      "Adicionada sexo_F                         com valor p 1.5132e-14\n",
      "#############\n",
      "['tempo_emprego', 'sexo_M', 'tipo_renda_Assalariado', 'idade', 'educacao_Superior_completo', 'sexo_F']\n",
      "Adicionada posse_de_imovel                com valor p 9.38155e-09\n",
      "#############\n",
      "['tempo_emprego', 'sexo_M', 'tipo_renda_Assalariado', 'idade', 'educacao_Superior_completo', 'sexo_F', 'posse_de_imovel']\n",
      "Adicionada tipo_renda_Servidor_público    com valor p 4.79501e-07\n",
      "#############\n",
      "['tempo_emprego', 'sexo_M', 'tipo_renda_Assalariado', 'idade', 'educacao_Superior_completo', 'sexo_F', 'posse_de_imovel', 'tipo_renda_Servidor_público']\n",
      "Adicionada educacao_Pós_graduação         com valor p 0.00992108\n",
      "#############\n",
      "['tempo_emprego', 'sexo_M', 'tipo_renda_Assalariado', 'idade', 'educacao_Superior_completo', 'sexo_F', 'posse_de_imovel', 'tipo_renda_Servidor_público', 'educacao_Pós_graduação']\n",
      "Adicionada tipo_residencia_Casa           com valor p 0.0109143\n",
      "#############\n",
      "['tempo_emprego', 'sexo_M', 'tipo_renda_Assalariado', 'idade', 'educacao_Superior_completo', 'sexo_F', 'posse_de_imovel', 'tipo_renda_Servidor_público', 'educacao_Pós_graduação', 'tipo_residencia_Casa']\n",
      "Adicionada tipo_residencia_Aluguel        com valor p 0.0155089\n",
      "#############\n",
      "['tempo_emprego', 'sexo_M', 'tipo_renda_Assalariado', 'idade', 'educacao_Superior_completo', 'sexo_F', 'posse_de_imovel', 'tipo_renda_Servidor_público', 'educacao_Pós_graduação', 'tipo_residencia_Casa', 'tipo_residencia_Aluguel']\n",
      "Adicionada tipo_renda_Pensionista         com valor p 0.017019\n",
      "#############\n",
      "['tempo_emprego', 'sexo_M', 'tipo_renda_Assalariado', 'idade', 'educacao_Superior_completo', 'sexo_F', 'posse_de_imovel', 'tipo_renda_Servidor_público', 'educacao_Pós_graduação', 'tipo_residencia_Casa', 'tipo_residencia_Aluguel', 'tipo_renda_Pensionista']\n",
      "#############\n",
      "['tempo_emprego', 'sexo_M', 'tipo_renda_Assalariado', 'idade', 'educacao_Superior_completo', 'sexo_F', 'posse_de_imovel', 'tipo_renda_Servidor_público', 'educacao_Pós_graduação', 'tipo_residencia_Casa', 'tipo_residencia_Aluguel', 'tipo_renda_Pensionista']\n",
      "Características resultantes:\n",
      "['tempo_emprego', 'sexo_M', 'tipo_renda_Assalariado', 'idade', 'educacao_Superior_completo', 'sexo_F', 'posse_de_imovel', 'tipo_renda_Servidor_público', 'educacao_Pós_graduação', 'tipo_residencia_Casa', 'tipo_residencia_Aluguel', 'tipo_renda_Pensionista']\n"
     ]
    }
   ],
   "source": [
    "def stepwise_selection(X, y, \n",
    "                       initial_list=[], \n",
    "                       threshold_in=0.05, \n",
    "                       threshold_out=0.05, \n",
    "                       verbose=True):\n",
    "    \"\"\" Realiza uma seleção de características avante-retrocedente\n",
    "    baseada no valor de p do OLS (Ordinary Least Squares) do statsmodels.api.\n",
    "    Argumentos:\n",
    "        X - pandas.DataFrame com as características candidatas\n",
    "        y - lista-like com o alvo\n",
    "        initial_list - lista de características para começar (nomes de colunas de X)\n",
    "        threshold_in - incluir uma característica se seu valor p < threshold_in\n",
    "        threshold_out - excluir uma característica se seu valor p > threshold_out\n",
    "        verbose - se deve imprimir a sequência de inclusões e exclusões\n",
    "    Retorna: lista de características selecionadas \n",
    "    Sempre ajuste threshold_in < threshold_out para evitar looping infinito.\n",
    "    Veja https://en.wikipedia.org/wiki/Stepwise_regression para detalhes.\n",
    "    \"\"\"\n",
    "    included = list(initial_list)\n",
    "    while True:\n",
    "        changed = False\n",
    "        # Passo avante\n",
    "        excluded = list(set(X.columns) - set(included))\n",
    "        new_pval = pd.Series(index=excluded, dtype=np.dtype('float64'))\n",
    "        for new_column in excluded:\n",
    "            model = sm.OLS(y, sm.add_constant(pd.DataFrame(X[included + [new_column]]))).fit()\n",
    "            new_pval[new_column] = model.pvalues[new_column]\n",
    "        best_pval = new_pval.min()\n",
    "        if best_pval < threshold_in:\n",
    "            best_feature = new_pval.idxmin()\n",
    "            included.append(best_feature)\n",
    "            changed = True\n",
    "            if verbose:\n",
    "                print('Adicionada {:30} com valor p {:.6}'.format(best_feature, best_pval))\n",
    "\n",
    "        # Passo retrocedente\n",
    "        print(\"#############\")\n",
    "        print(included)\n",
    "        model = sm.OLS(y, sm.add_constant(pd.DataFrame(X[included]))).fit()\n",
    "        # Usa todos os coeficientes exceto o intercepto\n",
    "        pvalues = model.pvalues.iloc[1:]\n",
    "        worst_pval = pvalues.max()  # Nulo se pvalues estiver vazio\n",
    "        if worst_pval > threshold_out:\n",
    "            changed = True\n",
    "            worst_feature = pvalues.idxmax()\n",
    "            included.remove(worst_feature)\n",
    "            if verbose:\n",
    "                print('Removida {:30} com valor p {:.6}'.format(worst_feature, worst_pval))\n",
    "        if not changed:\n",
    "            break\n",
    "    return included\n",
    "\n",
    "# Aplicando a função de seleção avante-retrocedente às variáveis independentes\n",
    "variaveis = stepwise_selection(X, y)\n",
    "\n",
    "print('Características resultantes:')\n",
    "print(variaveis)"
   ]
  },
  {
   "cell_type": "code",
   "execution_count": 16,
   "metadata": {},
   "outputs": [
    {
     "name": "stdout",
     "output_type": "stream",
     "text": [
      "R² para o modelo final: 0.23343712687284068\n"
     ]
    }
   ],
   "source": [
    "# Criando a fórmula com as variáveis selecionadas\n",
    "formula = \"renda ~ \" + \" + \".join(variaveis)\n",
    "\n",
    "# Criando o modelo usando a fórmula e os dados de teste\n",
    "modelo = smf.ols(formula, data=df_test)\n",
    "reg = modelo.fit()\n",
    "\n",
    "# Fazendo previsões no conjunto de teste\n",
    "y_pred = reg.predict(X_test)\n",
    "\n",
    "# Calculando o R²\n",
    "r2 = r2_score(y_test, y_pred)\n",
    "print(f\"R² para o modelo final: {r2}\")"
   ]
  },
  {
   "cell_type": "markdown",
   "metadata": {},
   "source": [
    "#### Comparando:\n",
    "\n",
    "O R² não foi capaz de diferenciar os modelos. Portanto, apenas com essa métrica seria difícil escolher o melhor."
   ]
  },
  {
   "cell_type": "markdown",
   "metadata": {},
   "source": [
    "### Transformações"
   ]
  },
  {
   "cell_type": "code",
   "execution_count": 17,
   "metadata": {},
   "outputs": [
    {
     "data": {
      "text/plain": [
       "'renda ~ tempo_emprego + sexo_M + tipo_renda_Assalariado + idade + educacao_Superior_completo + sexo_F + posse_de_imovel + tipo_renda_Servidor_público + educacao_Pós_graduação + tipo_residencia_Casa + tipo_residencia_Aluguel + tipo_renda_Pensionista'"
      ]
     },
     "execution_count": 17,
     "metadata": {},
     "output_type": "execute_result"
    }
   ],
   "source": [
    "# Criando a fórmula com as variáveis selecionadas\n",
    "formula = \"renda ~ \" + \" + \".join(variaveis)\n",
    "formula"
   ]
  },
  {
   "cell_type": "code",
   "execution_count": 18,
   "metadata": {},
   "outputs": [
    {
     "data": {
      "text/plain": [
       "'renda ~ tempo_emprego + np.power(tempo_emprego, 2) + sexo_M + tipo_renda_Assalariado + np.log(idade) + educacao_Superior_completo + sexo_F + posse_de_imovel + tipo_renda_Servidor_público + educacao_Pós_graduação + tipo_residencia_Casa + tipo_residencia_Aluguel + tipo_renda_Pensionista'"
      ]
     },
     "execution_count": 18,
     "metadata": {},
     "output_type": "execute_result"
    }
   ],
   "source": [
    "# Definindo a fórmula do modelo linear\n",
    "formula = 'renda ~ tempo_emprego + np.power(tempo_emprego, 2) + sexo_M + tipo_renda_Assalariado + np.log(idade) + educacao_Superior_completo + sexo_F + posse_de_imovel + tipo_renda_Servidor_público + educacao_Pós_graduação + tipo_residencia_Casa + tipo_residencia_Aluguel + tipo_renda_Pensionista'\n",
    "formula"
   ]
  },
  {
   "cell_type": "code",
   "execution_count": 19,
   "metadata": {},
   "outputs": [
    {
     "data": {
      "text/plain": [
       "0.24919465336236968"
      ]
     },
     "execution_count": 19,
     "metadata": {},
     "output_type": "execute_result"
    }
   ],
   "source": [
    "# Ajustando o modelo linear com a fórmula especificada nos dados de teste\n",
    "modelo = smf.ols(formula, data=df_test)\n",
    "reg = modelo.fit()\n",
    "\n",
    "# Fazendo previsões no conjunto de teste\n",
    "y_pred = reg.predict(X_test)\n",
    "\n",
    "# Avaliando o desempenho do modelo usando o coeficiente de determinação (R²)\n",
    "r2_score(y_test, y_pred)"
   ]
  },
  {
   "cell_type": "markdown",
   "metadata": {},
   "source": [
    "#### Obs.: \n",
    "\n",
    "A transformação das variáveis 'tempo_emprego' e 'idade' permitiu que o modelo se ajustasse melhor aos dados."
   ]
  },
  {
   "cell_type": "markdown",
   "metadata": {},
   "source": [
    "### Árvore de regressão (prevendo valores contínuos)"
   ]
  },
  {
   "cell_type": "code",
   "execution_count": 20,
   "metadata": {},
   "outputs": [
    {
     "name": "stdout",
     "output_type": "stream",
     "text": [
      "0.25048372626848814\n"
     ]
    }
   ],
   "source": [
    "from sklearn.tree import DecisionTreeRegressor\n",
    "\n",
    "# Lista para armazenar os resultados do coeficiente de determinação (R²)\n",
    "r2s = []\n",
    "\n",
    "# Listas para armazenar os valores de i e j correspondentes aos melhores resultados\n",
    "ind_i = []\n",
    "ind_j = []\n",
    "\n",
    "# Loop para testar diferentes combinações de hiperparâmetros\n",
    "for i in range(2, 20):\n",
    "    for j in range(20, 60):\n",
    "        # Criando e treinando o modelo de árvore de decisão com os hiperparâmetros atuais\n",
    "        regr_1 = DecisionTreeRegressor(max_depth=i, min_samples_leaf=j)\n",
    "        regr_1.fit(X_train, y_train)\n",
    "        \n",
    "        # Armazenando os resultados\n",
    "        ind_i.append(i)\n",
    "        ind_j.append(j)\n",
    "        r2s.append(regr_1.score(X_test, y_test))\n",
    "        \n",
    "# Criando um DataFrame com os resultados de R², profundidade e número mínimo de amostras\n",
    "df_r2 = pd.DataFrame({'R2': r2s, 'profundidade': ind_i, 'n_minimo': ind_j})\n",
    "\n",
    "# Obtendo o valor máximo de R²\n",
    "max_r2 = df_r2['R2'].max()\n",
    "\n",
    "# Imprimindo o valor máximo de R²\n",
    "print(max_r2)"
   ]
  },
  {
   "cell_type": "markdown",
   "metadata": {},
   "source": [
    "#### Conclusão\n",
    "\n",
    "O valor máximo de R² obtido com árvore de regressão é inferior ao valor máximo de R² obtido com regressão linear stepwise com transformações."
   ]
  }
 ],
 "metadata": {
  "kernelspec": {
   "display_name": "Python 3 (ipykernel)",
   "language": "python",
   "name": "python3"
  },
  "language_info": {
   "codemirror_mode": {
    "name": "ipython",
    "version": 3
   },
   "file_extension": ".py",
   "mimetype": "text/x-python",
   "name": "python",
   "nbconvert_exporter": "python",
   "pygments_lexer": "ipython3",
   "version": "3.11.4"
  }
 },
 "nbformat": 4,
 "nbformat_minor": 4
}
