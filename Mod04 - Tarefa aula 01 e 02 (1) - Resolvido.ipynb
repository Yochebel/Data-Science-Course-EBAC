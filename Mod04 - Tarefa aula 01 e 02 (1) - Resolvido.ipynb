{
 "cells": [
  {
   "cell_type": "markdown",
   "metadata": {},
   "source": [
    "# Tarefa 01\n",
    "\n",
    "- Leia os enunciados com atenção\n",
    "- Saiba que pode haver mais de uma resposta correta\n",
    "- Insira novas células de código sempre que achar necessário\n",
    "- Em caso de dúvidas, procure os tutores\n",
    "- Divirta-se :)\n",
    "\n",
    "#### 1)  crie uma série do pandas a partir de uma lista com os dados abaixo:\n",
    "\n",
    "Em um estudo sobre alteração na tempreatura global, A NASA disponibiliza dados de diferenças de de temperatura média da superfície terrestre relativos às médias de temperatura entre 1951 e 1980. Os dados originais podem ser vistos no site da NASA/GISS, e estão dispostos a cada década na tabela abaixo.\n",
    "\n",
    "|ano|anomalia termica|\n",
    "|:-:|:----:|\n",
    "| 1900 | -0.08 |\n",
    "| 1920 | -0.27 |\n",
    "| 1940 | 0.12 |\n",
    "| 1960 | -0.03 |\n",
    "| 1980 | 0.26 |\n",
    "| 2000 | 0.40 |\n",
    "| 2020 | 1.02 |\n",
    "\n",
    "Crie uma séries do Pandas a partir de uma lista com esses dados."
   ]
  },
  {
   "cell_type": "code",
   "execution_count": 5,
   "metadata": {},
   "outputs": [
    {
     "name": "stdout",
     "output_type": "stream",
     "text": [
      "1900   -0.08\n",
      "1920   -0.27\n",
      "1940    0.12\n",
      "1960   -0.03\n",
      "1980    0.26\n",
      "2000    0.40\n",
      "2020    1.02\n",
      "Name: Variações Térmicas, dtype: float64\n"
     ]
    }
   ],
   "source": [
    "import pandas as pd\n",
    "import numpy as np\n",
    "\n",
    "# Seu código aqui\n",
    "\n",
    "# Dados fornecidos\n",
    "dados = {\n",
    "    1900: -0.08,\n",
    "    1920: -0.27,\n",
    "    1940: 0.12,\n",
    "    1960: -0.03,\n",
    "    1980: 0.26,\n",
    "    2000: 0.40,\n",
    "    2020: 1.02\n",
    "}\n",
    "\n",
    "# Criar uma série do pandas a partir dos dados\n",
    "serie_mudanca = pd.Series(dados, name='Variações Térmicas')\n",
    "\n",
    "print(serie_mudanca)"
   ]
  },
  {
   "cell_type": "markdown",
   "metadata": {},
   "source": [
    "#### 2) Coloque os anos nos índices conforme a tabela."
   ]
  },
  {
   "cell_type": "code",
   "execution_count": 6,
   "metadata": {},
   "outputs": [
    {
     "name": "stdout",
     "output_type": "stream",
     "text": [
      "1900   -0.08\n",
      "1920   -0.27\n",
      "1940    0.12\n",
      "1960   -0.03\n",
      "1980    0.26\n",
      "2000    0.40\n",
      "2020    1.02\n",
      "Name: Variações Térmicas, dtype: float64\n"
     ]
    }
   ],
   "source": [
    "\n",
    "# seu código aqui\n",
    "\n",
    "# Criar uma série do pandas a partir dos dados, com os anos como índices\n",
    "serie_mudanca = pd.Series(list(dados.values()), index=list(dados.keys()), name='Variações Térmicas')\n",
    "\n",
    "print(serie_mudanca)\n"
   ]
  },
  {
   "cell_type": "markdown",
   "metadata": {},
   "source": [
    "#### 3) A partir do dicionário abaixo, crie uma séries do Pandas:"
   ]
  },
  {
   "cell_type": "code",
   "execution_count": 7,
   "metadata": {},
   "outputs": [
    {
     "name": "stdout",
     "output_type": "stream",
     "text": [
      "1900   -0.08\n",
      "1920   -0.27\n",
      "1940    0.12\n",
      "1960   -0.03\n",
      "1980    0.26\n",
      "2000    0.40\n",
      "2020    1.02\n",
      "Name: Variações Térmicas, dtype: float64\n"
     ]
    }
   ],
   "source": [
    "dic_temperaturas = {1900: -.08, 1920: -.27, 1940: .12, 1960: -.03, 1980: .26, 2000: .40, 2020: 1.02}\n",
    "\n",
    "# seu código aqui\n",
    "\n",
    "# Criar uma série do pandas a partir do dicionário\n",
    "serie_temperaturas = pd.Series(dic_temperaturas, name='Variações Térmicas')\n",
    "\n",
    "print(serie_temperaturas)"
   ]
  },
  {
   "cell_type": "markdown",
   "metadata": {},
   "source": [
    "#### 4) Transforme o ndarray abaixo em um dataframe. \n",
    "O numpy é capaz de gerar arrays n-dimensionais com números pseudo-aleatórios de acordo com uma variedade de distribuições, como no exemplo abaixo. Transforme esse nd-array em um DataFrame."
   ]
  },
  {
   "cell_type": "code",
   "execution_count": 8,
   "metadata": {},
   "outputs": [
    {
     "name": "stdout",
     "output_type": "stream",
     "text": [
      "      Coluna 1    Coluna 2    Coluna 3\n",
      "0    74.750774  108.759720   81.016248\n",
      "1   100.679137   91.276645   92.786648\n",
      "2   110.990301   91.460296   98.781323\n",
      "3   108.457686   92.076332   89.268340\n",
      "4   113.497908   96.313273  112.550855\n",
      "5    95.683893  100.869080  108.532744\n",
      "6    90.093549  110.112057  107.681056\n",
      "7   104.761007   94.990386  104.881324\n",
      "8   107.288600  100.567529  104.682818\n",
      "9   107.639544  100.519374   89.698698\n",
      "10  100.794176  121.230828  105.307220\n",
      "11   89.970008  103.761509  106.187627\n",
      "12   90.810279   94.854631   91.757556\n",
      "13  106.443256  111.634707  104.641496\n",
      "14  119.565816  106.211697   90.386549\n",
      "15   83.993954  120.539968  108.264377\n",
      "16   94.087122   94.958344   86.823967\n",
      "17   94.689089   99.396186   96.344668\n",
      "18   81.967753  124.116808  109.988107\n",
      "19   85.269204  106.453693   89.184602\n"
     ]
    }
   ],
   "source": [
    "arr = np.random.normal(100, 10, (20,3))\n",
    "\n",
    "# seu código aqui\n",
    "\n",
    "# Criar o ndarray\n",
    "arr = np.random.normal(100, 10, (20, 3))\n",
    "\n",
    "# Criar um DataFrame a partir do ndarray\n",
    "df = pd.DataFrame(arr, columns=['Coluna 1', 'Coluna 2', 'Coluna 3'])\n",
    "\n",
    "print(df)"
   ]
  },
  {
   "cell_type": "markdown",
   "metadata": {},
   "source": [
    "#### 5) Nomeie os índices das linhas com inteiros de 1 a 20, e as colunas com os nomes \"x1\", \"x2\", e \"x3\" respectivamente."
   ]
  },
  {
   "cell_type": "code",
   "execution_count": 9,
   "metadata": {},
   "outputs": [
    {
     "name": "stdout",
     "output_type": "stream",
     "text": [
      "            x1          x2          x3\n",
      "1   118.781351  102.523264   90.773614\n",
      "2    91.084192   98.848252   99.311742\n",
      "3   106.519994  100.933371  115.041184\n",
      "4   107.469620   87.553996  104.053687\n",
      "5   106.180129  101.901729   83.874595\n",
      "6    93.886301   88.781678  102.116739\n",
      "7   107.237014  118.409806   94.219082\n",
      "8    88.403588  102.865484  104.634398\n",
      "9    98.516622  109.659004   72.264014\n",
      "10   74.358395   88.854513  100.727809\n",
      "11  124.756253   98.112023   87.981211\n",
      "12   88.509716  103.270453   91.305990\n",
      "13  106.523194   82.025834  107.793832\n",
      "14  107.468919   84.638963  103.007270\n",
      "15  117.490213  102.509677   73.501768\n",
      "16  124.798113   94.543950   87.444421\n",
      "17  103.623107  101.400787   90.550221\n",
      "18  102.750850   96.999322   94.365999\n",
      "19  111.861719   92.036659  106.595513\n",
      "20  100.219479   90.729266   95.845130\n"
     ]
    }
   ],
   "source": [
    "#seu código aqui\n",
    "\n",
    "# Criar o ndarray\n",
    "arr = np.random.normal(100, 10, (20, 3))\n",
    "\n",
    "# Criar um DataFrame a partir do ndarray com índices e colunas nomeadas\n",
    "df = pd.DataFrame(arr, columns=['x1', 'x2', 'x3'], index=range(1, 21))\n",
    "\n",
    "print(df)"
   ]
  },
  {
   "cell_type": "markdown",
   "metadata": {},
   "source": [
    "#### 6) No DataFrame do exercício 5, crie uma nova coluna como sendo a média das três colunas, e dê a ela o nome de \"media\" (não recomendo colocar acentos em nomes de variáveis)."
   ]
  },
  {
   "cell_type": "code",
   "execution_count": 10,
   "metadata": {},
   "outputs": [
    {
     "name": "stdout",
     "output_type": "stream",
     "text": [
      "            x1          x2          x3       media\n",
      "1   118.781351  102.523264   90.773614  104.026076\n",
      "2    91.084192   98.848252   99.311742   96.414729\n",
      "3   106.519994  100.933371  115.041184  107.498183\n",
      "4   107.469620   87.553996  104.053687   99.692434\n",
      "5   106.180129  101.901729   83.874595   97.318818\n",
      "6    93.886301   88.781678  102.116739   94.928240\n",
      "7   107.237014  118.409806   94.219082  106.621967\n",
      "8    88.403588  102.865484  104.634398   98.634490\n",
      "9    98.516622  109.659004   72.264014   93.479880\n",
      "10   74.358395   88.854513  100.727809   87.980239\n",
      "11  124.756253   98.112023   87.981211  103.616496\n",
      "12   88.509716  103.270453   91.305990   94.362053\n",
      "13  106.523194   82.025834  107.793832   98.780953\n",
      "14  107.468919   84.638963  103.007270   98.371717\n",
      "15  117.490213  102.509677   73.501768   97.833886\n",
      "16  124.798113   94.543950   87.444421  102.262162\n",
      "17  103.623107  101.400787   90.550221   98.524705\n",
      "18  102.750850   96.999322   94.365999   98.038724\n",
      "19  111.861719   92.036659  106.595513  103.497964\n",
      "20  100.219479   90.729266   95.845130   95.597958\n"
     ]
    }
   ],
   "source": [
    "# seu código aqui\n",
    "\n",
    "# Criar um DataFrame a partir do ndarray com índices e colunas nomeadas\n",
    "df = pd.DataFrame(arr, columns=['x1', 'x2', 'x3'], index=range(1, 21))\n",
    "\n",
    "# Calcular a média das três colunas\n",
    "df['media'] = df.mean(axis=1)\n",
    "\n",
    "print(df)"
   ]
  },
  {
   "cell_type": "markdown",
   "metadata": {},
   "source": [
    "#### 7) No DataFrame do exercício 6, crie uma nova coluna chamada \"log_med\", contendo o logaritmo natural da média calculada no exercício 6 <br>"
   ]
  },
  {
   "cell_type": "code",
   "execution_count": 11,
   "metadata": {},
   "outputs": [
    {
     "name": "stdout",
     "output_type": "stream",
     "text": [
      "            x1          x2          x3       media   log_med\n",
      "1   118.781351  102.523264   90.773614  104.026076  4.644642\n",
      "2    91.084192   98.848252   99.311742   96.414729  4.568659\n",
      "3   106.519994  100.933371  115.041184  107.498183  4.677474\n",
      "4   107.469620   87.553996  104.053687   99.692434  4.602090\n",
      "5   106.180129  101.901729   83.874595   97.318818  4.577992\n",
      "6    93.886301   88.781678  102.116739   94.928240  4.553121\n",
      "7   107.237014  118.409806   94.219082  106.621967  4.669290\n",
      "8    88.403588  102.865484  104.634398   98.634490  4.591421\n",
      "9    98.516622  109.659004   72.264014   93.479880  4.537746\n",
      "10   74.358395   88.854513  100.727809   87.980239  4.477112\n",
      "11  124.756253   98.112023   87.981211  103.616496  4.640697\n",
      "12   88.509716  103.270453   91.305990   94.362053  4.547139\n",
      "13  106.523194   82.025834  107.793832   98.780953  4.592905\n",
      "14  107.468919   84.638963  103.007270   98.371717  4.588753\n",
      "15  117.490213  102.509677   73.501768   97.833886  4.583271\n",
      "16  124.798113   94.543950   87.444421  102.262162  4.627540\n",
      "17  103.623107  101.400787   90.550221   98.524705  4.590307\n",
      "18  102.750850   96.999322   94.365999   98.038724  4.585363\n",
      "19  111.861719   92.036659  106.595513  103.497964  4.639552\n",
      "20  100.219479   90.729266   95.845130   95.597958  4.560151\n"
     ]
    }
   ],
   "source": [
    "# seu código aqui\n",
    "\n",
    "# Calcular o logaritmo natural da média e criar uma nova coluna\n",
    "df['log_med'] = np.log(df['media'])\n",
    "\n",
    "print(df)"
   ]
  }
 ],
 "metadata": {
  "kernelspec": {
   "display_name": "Python 3 (ipykernel)",
   "language": "python",
   "name": "python3"
  },
  "language_info": {
   "codemirror_mode": {
    "name": "ipython",
    "version": 3
   },
   "file_extension": ".py",
   "mimetype": "text/x-python",
   "name": "python",
   "nbconvert_exporter": "python",
   "pygments_lexer": "ipython3",
   "version": "3.11.4"
  }
 },
 "nbformat": 4,
 "nbformat_minor": 4
}
